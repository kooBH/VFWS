{
 "cells": [
  {
   "cell_type": "markdown",
   "metadata": {},
   "source": [
    "https://github.com/Sato-Kunihiko/audio-SNR/blob/master/create_mixed_audio_file.py"
   ]
  },
  {
   "cell_type": "code",
   "execution_count": 9,
   "metadata": {},
   "outputs": [],
   "source": [
    "import array\n",
    "import math\n",
    "import numpy as np\n",
    "import wave\n",
    "\n",
    "def cal_adjusted_rms(clean_rms, snr):\n",
    "    a = float(snr) / 20\n",
    "    noise_rms = clean_rms / (10**a) \n",
    "    return noise_rms\n",
    "\n",
    "def cal_amp(wf):\n",
    "    buffer = wf.readframes(wf.getnframes())\n",
    "    # The dtype depends on the value of pulse-code modulation. The int16 is set for 16-bit PCM.\n",
    "    amptitude = (np.frombuffer(buffer, dtype=\"int16\")).astype(np.float64)\n",
    "    return amptitude\n",
    "\n",
    "def cal_rms(amp):\n",
    "    return np.sqrt(np.mean(np.square(amp), axis=-1))\n",
    "\n",
    "def save_waveform(output_path, params, amp):\n",
    "    output_file = wave.Wave_write(output_path)\n",
    "    output_file.setparams(params) #nchannels, sampwidth, framerate, nframes, comptype, compname\n",
    "    output_file.writeframes(array.array('h', amp.astype(np.int16)).tobytes() )\n",
    "    output_file.close()"
   ]
  },
  {
   "cell_type": "code",
   "execution_count": 4,
   "metadata": {},
   "outputs": [],
   "source": [
    "clean_file = '/home/nas/user/kbh/Librispeech/norm/train/103-1240-0000-norm.wav'\n",
    "noise_file = '/home/nas/user/kbh/VFWS/noise/CAF_0.wav'"
   ]
  },
  {
   "cell_type": "code",
   "execution_count": 8,
   "metadata": {},
   "outputs": [],
   "source": [
    "def mix_noise(clean,noise,out,snr=0,seed=None):\n",
    "    c = wave.open(clean, \"r\")\n",
    "    n = wave.open(noise, \"r\")\n",
    "    \n",
    "    c_amp = cal_amp(c)\n",
    "    n_amp = cal_amp(n)\n",
    "    \n",
    "    c_rms = cal_rms(c_amp)\n",
    "    \n",
    "    if seed != None:\n",
    "        np.random.seed(seed)\n",
    "    \n",
    "    # Choose random interval of Noise\n",
    "    start = np.random.randint(0, len(n_amp)-len(c_amp))\n",
    "    divided_n_amp = n_amp[start: start + len(c_amp)]\n",
    "    n_rms = cal_rms(divided_n_amp)\n",
    "    \n",
    "    adjusted_n_rms = cal_adjusted_rms(c_rms, snr)\n",
    "    \n",
    "    adjusted_n_amp = divided_n_amp * (adjusted_n_rms / n_rms) \n",
    "    mixed_amp = (c_amp + adjusted_n_amp)\n",
    "    \n",
    "    #Avoid clipping noise\n",
    "    max_int16 = np.iinfo(np.int16).max\n",
    "    min_int16 = np.iinfo(np.int16).min\n",
    "    if mixed_amp.max(axis=0) > max_int16 or mixed_amp.min(axis=0) < min_int16:\n",
    "        if mixed_amp.max(axis=0) >= abs(mixed_amp.min(axis=0)): \n",
    "            reduction_rate = max_int16 / mixed_amp.max(axis=0)\n",
    "        else :\n",
    "            reduction_rate = min_int16 / mixed_amp.min(axis=0)\n",
    "        mixed_amp = mixed_amp * (reduction_rate)\n",
    "        c_amp = c_amp * (reduction_rate)\n",
    "\n",
    "    save_waveform(out, c.getparams(), mixed_amp)\n",
    "\n",
    "mix(clean_file,noise_file,'/home/nas/user/kbh/test/snr' + str(0) +'.wav')"
   ]
  },
  {
   "cell_type": "code",
   "execution_count": null,
   "metadata": {},
   "outputs": [],
   "source": []
  },
  {
   "cell_type": "code",
   "execution_count": null,
   "metadata": {},
   "outputs": [],
   "source": []
  }
 ],
 "metadata": {
  "kernelspec": {
   "display_name": "Python 3",
   "language": "python",
   "name": "python3"
  },
  "language_info": {
   "codemirror_mode": {
    "name": "ipython",
    "version": 3
   },
   "file_extension": ".py",
   "mimetype": "text/x-python",
   "name": "python",
   "nbconvert_exporter": "python",
   "pygments_lexer": "ipython3",
   "version": "3.8.5"
  }
 },
 "nbformat": 4,
 "nbformat_minor": 2
}
